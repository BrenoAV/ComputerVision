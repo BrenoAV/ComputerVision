{
 "cells": [
  {
   "cell_type": "markdown",
   "id": "e7b19946",
   "metadata": {},
   "source": [
    "# LeNet5"
   ]
  },
  {
   "cell_type": "markdown",
   "id": "5327aafc",
   "metadata": {},
   "source": [
    "# LIBRARIES"
   ]
  },
  {
   "cell_type": "code",
   "execution_count": 1,
   "id": "027eb412",
   "metadata": {},
   "outputs": [],
   "source": [
    "import torch\n",
    "import torch.nn as nn\n",
    "from torchvision.datasets import MNIST\n",
    "from torchvision import transforms\n",
    "import torch.nn.functional as F\n",
    "from torch.utils.data import DataLoader\n",
    "from torch.utils.data import random_split\n",
    "from torch.optim import lr_scheduler\n",
    "import numpy as np\n",
    "import matplotlib.pyplot as plt"
   ]
  },
  {
   "cell_type": "code",
   "execution_count": 2,
   "id": "a7ba9d1e-49d6-4bbc-8701-d8e3e7c29a2c",
   "metadata": {},
   "outputs": [],
   "source": [
    "device = torch.device('cuda' if torch.cuda.is_available() else 'cpu')  # Device configuration"
   ]
  },
  {
   "cell_type": "markdown",
   "id": "1bfa9b13",
   "metadata": {},
   "source": [
    "# CONSTANTS"
   ]
  },
  {
   "cell_type": "code",
   "execution_count": 3,
   "id": "a5a93e6a",
   "metadata": {},
   "outputs": [],
   "source": [
    "BATCH_SIZE = 32\n",
    "WIDTH = 28\n",
    "HEIGHT = 28\n",
    "CHANNELS = 1\n",
    "EPOCHS = 30"
   ]
  },
  {
   "cell_type": "code",
   "execution_count": 4,
   "id": "faebfef2-357f-4fde-ac05-9b5e9ec1193a",
   "metadata": {},
   "outputs": [],
   "source": [
    "my_transforms = transforms.Compose([\n",
    "    transforms.ToTensor(),\n",
    "])"
   ]
  },
  {
   "cell_type": "markdown",
   "id": "863c996c",
   "metadata": {},
   "source": [
    "# DOWNLOAD AND LOAD DATASET"
   ]
  },
  {
   "cell_type": "code",
   "execution_count": 5,
   "id": "a83e9e52",
   "metadata": {},
   "outputs": [],
   "source": [
    "mnist_train_val = MNIST('/mnt/files/Datasets/', train=True, download=True, transform=my_transforms)"
   ]
  },
  {
   "cell_type": "markdown",
   "id": "5a2ff8cd",
   "metadata": {},
   "source": [
    "## train & Val"
   ]
  },
  {
   "cell_type": "code",
   "execution_count": 6,
   "id": "45119ded",
   "metadata": {},
   "outputs": [],
   "source": [
    "mnist_train, mnist_val = random_split(mnist_train_val, [55000, 5000])"
   ]
  },
  {
   "cell_type": "markdown",
   "id": "8b8ccd7d",
   "metadata": {},
   "source": [
    "## test"
   ]
  },
  {
   "cell_type": "code",
   "execution_count": 7,
   "id": "73fcd9ec",
   "metadata": {},
   "outputs": [],
   "source": [
    "mnist_test = MNIST('/mnt/files/Datasets/', train=False, download=True, transform=my_transforms)"
   ]
  },
  {
   "cell_type": "markdown",
   "id": "8ad9c033",
   "metadata": {},
   "source": [
    "# EXPLORING DATA"
   ]
  },
  {
   "cell_type": "code",
   "execution_count": 8,
   "id": "b7edd8bc",
   "metadata": {},
   "outputs": [
    {
     "name": "stdout",
     "output_type": "stream",
     "text": [
      "size of train dataset = 55000\n"
     ]
    }
   ],
   "source": [
    "dataset_train_size = len(mnist_train)\n",
    "print(f\"size of train dataset = {dataset_train_size}\")"
   ]
  },
  {
   "cell_type": "code",
   "execution_count": 9,
   "id": "4011dea3",
   "metadata": {},
   "outputs": [
    {
     "name": "stdout",
     "output_type": "stream",
     "text": [
      "size of val dataset = 5000\n"
     ]
    }
   ],
   "source": [
    "dataset_val_size = len(mnist_val)\n",
    "print(f\"size of val dataset = {dataset_val_size}\")"
   ]
  },
  {
   "cell_type": "code",
   "execution_count": 10,
   "id": "9812d3b8",
   "metadata": {},
   "outputs": [
    {
     "name": "stdout",
     "output_type": "stream",
     "text": [
      "size of test dataset = 5000\n"
     ]
    }
   ],
   "source": [
    "dataset_test_size = len(mnist_val)\n",
    "print(f\"size of test dataset = {dataset_test_size}\")"
   ]
  },
  {
   "cell_type": "markdown",
   "id": "e88c1aab",
   "metadata": {},
   "source": [
    "## Creating dataloaders"
   ]
  },
  {
   "cell_type": "code",
   "execution_count": 11,
   "id": "a35b90b4",
   "metadata": {},
   "outputs": [],
   "source": [
    "train_dataloader = DataLoader(mnist_train, \n",
    "                              batch_size=BATCH_SIZE,\n",
    "                              shuffle=True,\n",
    "                              num_workers=2)"
   ]
  },
  {
   "cell_type": "code",
   "execution_count": 12,
   "id": "ee7b8433",
   "metadata": {},
   "outputs": [],
   "source": [
    "val_dataloader = DataLoader(mnist_val, \n",
    "                            batch_size=BATCH_SIZE,\n",
    "                            shuffle=True,\n",
    "                            num_workers=2)"
   ]
  },
  {
   "cell_type": "code",
   "execution_count": 13,
   "id": "061c94dc",
   "metadata": {},
   "outputs": [],
   "source": [
    "test_dataloader = DataLoader(mnist_test, \n",
    "                             batch_size=BATCH_SIZE,\n",
    "                             shuffle=True,\n",
    "                             num_workers=2)"
   ]
  },
  {
   "cell_type": "code",
   "execution_count": 14,
   "id": "9f1fc0ee",
   "metadata": {},
   "outputs": [
    {
     "data": {
      "text/plain": [
       "(1719, 157, 313)"
      ]
     },
     "execution_count": 14,
     "metadata": {},
     "output_type": "execute_result"
    }
   ],
   "source": [
    "len(train_dataloader), len(val_dataloader), len(test_dataloader) "
   ]
  },
  {
   "cell_type": "markdown",
   "id": "b20e009b",
   "metadata": {},
   "source": [
    "## Example"
   ]
  },
  {
   "cell_type": "code",
   "execution_count": 15,
   "id": "91e64223",
   "metadata": {},
   "outputs": [
    {
     "data": {
      "image/png": "[encoded data removed]",
      "text/plain": [
       "<Figure size 1080x720 with 20 Axes>"
      ]
     },
     "metadata": {
      "needs_background": "light"
     },
     "output_type": "display_data"
    }
   ],
   "source": [
    "data_example, target_example = next(iter(train_dataloader))  # Loading batchsize\n",
    "\n",
    "plt.figure(figsize=(15, 10))\n",
    "for i in range(1, 21):\n",
    "    plt.subplot(4, 5, i)\n",
    "    plt.imshow(data_example[i-1].reshape(WIDTH, HEIGHT, CHANNELS))\n",
    "    plt.title(target_example[i - 1].item())\n",
    "    plt.axis(False)\n",
    "    "
   ]
  },
  {
   "cell_type": "markdown",
   "id": "956e1f24",
   "metadata": {},
   "source": [
    "# MODEL LENET5"
   ]
  },
  {
   "cell_type": "code",
   "execution_count": 16,
   "id": "35f375b7",
   "metadata": {},
   "outputs": [],
   "source": [
    "class LeNet5(nn.Module):\n",
    "    def __init__(self):\n",
    "        super().__init__()\n",
    "        self.conv1 = nn.Conv2d(in_channels=1,\n",
    "                               out_channels=6,\n",
    "                               kernel_size=5,\n",
    "                               padding='same',\n",
    "                               stride=1)\n",
    "        self.pool2 = nn.AvgPool2d(kernel_size=(2, 2), stride=2)\n",
    "        self.conv3 = nn.Conv2d(in_channels=6,\n",
    "                               out_channels=16,\n",
    "                               kernel_size=5,\n",
    "                               stride=1)\n",
    "        self.pool4 = nn.AvgPool2d(kernel_size=(2, 2), stride=2)\n",
    "        self.conv5 = nn.Conv2d(in_channels=16,\n",
    "                               out_channels=120,\n",
    "                               kernel_size=5,\n",
    "                               stride=1)\n",
    "        self.fc6 = nn.Linear(in_features=120*1*1,\n",
    "                             out_features=84)\n",
    "        self.softmax7 = nn.Linear(in_features=84,\n",
    "                                  out_features=10)\n",
    "    \n",
    "    def forward(self, x):\n",
    "        # x = 28, 28, 1\n",
    "        x = F.tanh(self.conv1(x))\n",
    "        # x = 28, 28, 6\n",
    "        x = self.pool2(x)\n",
    "        # x = 14, 14, 6\n",
    "        x = F.tanh(self.conv3(x))\n",
    "        # x = 10, 10, 16\n",
    "        x = self.pool4(x)\n",
    "        # x = 5, 5, 16\n",
    "        x = F.tanh(self.conv5(x))\n",
    "        # x = 1, 1, 120\n",
    "        x = x.view(-1, 120 * 1 * 1)\n",
    "        # x = -120\n",
    "        x = F.tanh(self.fc6(x))\n",
    "        # x = 84\n",
    "        x = self.softmax7(x)\n",
    "        # x = 10\n",
    "        return x"
   ]
  },
  {
   "cell_type": "code",
   "execution_count": 17,
   "id": "b5bcebad-f2db-4932-89ff-57686aa344a4",
   "metadata": {},
   "outputs": [],
   "source": [
    "model = LeNet5().to(device)"
   ]
  },
  {
   "cell_type": "markdown",
   "id": "42c2396d-e7ef-4d5b-ad9b-89a9db937fad",
   "metadata": {},
   "source": [
    "# CRITERION (LOSS) & OPTIMIZER"
   ]
  },
  {
   "cell_type": "code",
   "execution_count": 18,
   "id": "e5e58c10-0abe-4119-8da4-049756ebffca",
   "metadata": {},
   "outputs": [],
   "source": [
    "criterion = nn.CrossEntropyLoss()\n",
    "optimizer = torch.optim.SGD(params=model.parameters(),\n",
    "                            lr=1e-2)"
   ]
  },
  {
   "cell_type": "markdown",
   "id": "4e05368c-e5bf-4aea-8563-deacd833f700",
   "metadata": {},
   "source": [
    "# SCHEDULER LEARNING RATE"
   ]
  },
  {
   "cell_type": "code",
   "execution_count": 19,
   "id": "81fada8e-9001-4deb-9a14-fdc58321f309",
   "metadata": {},
   "outputs": [],
   "source": [
    "scheduler = lr_scheduler.MultiStepLR(optimizer=optimizer, milestones=[10, 15, 20], gamma=0.1)"
   ]
  },
  {
   "cell_type": "markdown",
   "id": "319d269e-2d85-406b-abdb-ceb262b6c0cf",
   "metadata": {},
   "source": [
    "# TRAINING"
   ]
  },
  {
   "cell_type": "code",
   "execution_count": 20,
   "id": "e683a901-77d8-4b66-bbd1-f430f5777446",
   "metadata": {},
   "outputs": [],
   "source": [
    "def get_lr(optimizer):\n",
    "    for param_group in optimizer.param_groups:\n",
    "        return param_group['lr']"
   ]
  },
  {
   "cell_type": "code",
   "execution_count": 21,
   "id": "575579fd-43c4-4bef-bc89-88dfbc5c3a7c",
   "metadata": {},
   "outputs": [
    {
     "name": "stderr",
     "output_type": "stream",
     "text": [
      "/home/brenoav/miniconda3/envs/torch-gpu/lib/python3.8/site-packages/torch/nn/functional.py:1949: UserWarning: nn.functional.tanh is deprecated. Use torch.tanh instead.\n",
      "  warnings.warn(\"nn.functional.tanh is deprecated. Use torch.tanh instead.\")\n"
     ]
    },
    {
     "name": "stdout",
     "output_type": "stream",
     "text": [
      "1/30 | loss = 1.3723 | acc = 60.9655 | Val loss = 0.5125 | Val acc = 85.7600 | lr = 0.01\n",
      "2/30 | loss = 0.3815 | acc = 89.1400 | Val loss = 0.3316 | Val acc = 90.5200 | lr = 0.01\n",
      "3/30 | loss = 0.2729 | acc = 91.9218 | Val loss = 0.2583 | Val acc = 92.6600 | lr = 0.01\n",
      "4/30 | loss = 0.2129 | acc = 93.6927 | Val loss = 0.2057 | Val acc = 94.0800 | lr = 0.01\n",
      "5/30 | loss = 0.1713 | acc = 94.8418 | Val loss = 0.1721 | Val acc = 95.0000 | lr = 0.01\n",
      "6/30 | loss = 0.1430 | acc = 95.7055 | Val loss = 0.1450 | Val acc = 95.9200 | lr = 0.01\n",
      "7/30 | loss = 0.1228 | acc = 96.2982 | Val loss = 0.1297 | Val acc = 96.4000 | lr = 0.01\n",
      "8/30 | loss = 0.1073 | acc = 96.8618 | Val loss = 0.1146 | Val acc = 96.5000 | lr = 0.01\n",
      "9/30 | loss = 0.0957 | acc = 97.1782 | Val loss = 0.1048 | Val acc = 96.8200 | lr = 0.01\n",
      "10/30 | loss = 0.0861 | acc = 97.4400 | Val loss = 0.0921 | Val acc = 97.2200 | lr = 0.001\n",
      "11/30 | loss = 0.0781 | acc = 97.6545 | Val loss = 0.0904 | Val acc = 97.2200 | lr = 0.001\n",
      "12/30 | loss = 0.0770 | acc = 97.7164 | Val loss = 0.0896 | Val acc = 97.2400 | lr = 0.001\n",
      "13/30 | loss = 0.0762 | acc = 97.7673 | Val loss = 0.0890 | Val acc = 97.2600 | lr = 0.001\n",
      "14/30 | loss = 0.0755 | acc = 97.7709 | Val loss = 0.0879 | Val acc = 97.2400 | lr = 0.001\n",
      "15/30 | loss = 0.0747 | acc = 97.8073 | Val loss = 0.0872 | Val acc = 97.3200 | lr = 0.0001\n",
      "16/30 | loss = 0.0739 | acc = 97.8145 | Val loss = 0.0871 | Val acc = 97.3200 | lr = 0.0001\n",
      "17/30 | loss = 0.0738 | acc = 97.8218 | Val loss = 0.0870 | Val acc = 97.3000 | lr = 0.0001\n",
      "18/30 | loss = 0.0738 | acc = 97.8200 | Val loss = 0.0869 | Val acc = 97.3000 | lr = 0.0001\n",
      "19/30 | loss = 0.0737 | acc = 97.8236 | Val loss = 0.0868 | Val acc = 97.3000 | lr = 0.0001\n",
      "20/30 | loss = 0.0736 | acc = 97.8327 | Val loss = 0.0867 | Val acc = 97.3400 | lr = 1e-05\n",
      "21/30 | loss = 0.0735 | acc = 97.8364 | Val loss = 0.0867 | Val acc = 97.3400 | lr = 1e-05\n",
      "22/30 | loss = 0.0735 | acc = 97.8382 | Val loss = 0.0867 | Val acc = 97.3400 | lr = 1e-05\n",
      "23/30 | loss = 0.0735 | acc = 97.8364 | Val loss = 0.0867 | Val acc = 97.3400 | lr = 1e-05\n",
      "24/30 | loss = 0.0735 | acc = 97.8345 | Val loss = 0.0867 | Val acc = 97.3400 | lr = 1e-05\n",
      "25/30 | loss = 0.0735 | acc = 97.8382 | Val loss = 0.0867 | Val acc = 97.3400 | lr = 1e-05\n",
      "26/30 | loss = 0.0735 | acc = 97.8364 | Val loss = 0.0867 | Val acc = 97.3400 | lr = 1e-05\n",
      "27/30 | loss = 0.0735 | acc = 97.8364 | Val loss = 0.0867 | Val acc = 97.3400 | lr = 1e-05\n",
      "28/30 | loss = 0.0735 | acc = 97.8382 | Val loss = 0.0867 | Val acc = 97.3400 | lr = 1e-05\n",
      "29/30 | loss = 0.0735 | acc = 97.8400 | Val loss = 0.0867 | Val acc = 97.3400 | lr = 1e-05\n",
      "30/30 | loss = 0.0735 | acc = 97.8418 | Val loss = 0.0867 | Val acc = 97.3400 | lr = 1e-05\n"
     ]
    }
   ],
   "source": [
    "for epoch in range(EPOCHS):\n",
    "    \n",
    "    running_loss = 0.0\n",
    "    \n",
    "    num_corrects = 0\n",
    "    num_samples = 0\n",
    "    \n",
    "    model.train() \n",
    "    for images, targets in train_dataloader:\n",
    "        images = images.to(device)\n",
    "        targets = targets.to(device)\n",
    "        \n",
    "        # Forward pass\n",
    "        \n",
    "        out = model(images)\n",
    "        loss = criterion(out, targets)\n",
    "        \n",
    "        # Backward\n",
    "        loss.backward()\n",
    "        optimizer.step()\n",
    "        optimizer.zero_grad()\n",
    "        \n",
    "        running_loss += loss.item() * images.size(0)\n",
    "        \n",
    "        # Acc Train\n",
    "        _, predicted = torch.max(out, 1)\n",
    "        num_corrects += (predicted == targets).sum().item()\n",
    "        num_samples += images.size(0)\n",
    "    \n",
    "    \n",
    "    running_loss_val = 0.0\n",
    "    num_corrects_val = 0\n",
    "    num_samples_val = 0\n",
    "    \n",
    "    model.eval()\n",
    "    for images, targets in val_dataloader:\n",
    "        images = images.to(device)\n",
    "        targets = targets.to(device)\n",
    "        \n",
    "        # compute loss\n",
    "\n",
    "        out = model(images)\n",
    "        loss_val = criterion(out, targets)\n",
    "        \n",
    "        running_loss_val += loss_val.item() * images.size(0)\n",
    "        \n",
    "        # Acc Val\n",
    "        _, predicted = torch.max(out, 1)\n",
    "        num_corrects_val += (predicted == targets).sum().item()\n",
    "        num_samples_val += images.size(0)\n",
    "    \n",
    "    scheduler.step()\n",
    "    \n",
    "    epoch_loss = running_loss / dataset_train_size\n",
    "    epoch_loss_val = running_loss_val / dataset_val_size\n",
    "    epoch_acc = 100 * num_corrects / num_samples\n",
    "    epoch_acc_val = 100 * num_corrects_val / num_samples_val\n",
    "    \n",
    "        \n",
    "    print(f\"{epoch+1}/{EPOCHS} | loss = {epoch_loss:.4f} | acc = {epoch_acc:.4f} | Val loss = {epoch_loss_val:.4f} | Val acc = {epoch_acc_val:.4f} | lr = {get_lr(optimizer)}\")"
   ]
  },
  {
   "cell_type": "markdown",
   "id": "eb83780c-6f77-413e-9f46-f56c7cc2769b",
   "metadata": {},
   "source": [
    "# EVALUATING"
   ]
  },
  {
   "cell_type": "code",
   "execution_count": 22,
   "id": "65ace980-ad73-4c67-b0a6-8421c867cdfc",
   "metadata": {},
   "outputs": [
    {
     "name": "stdout",
     "output_type": "stream",
     "text": [
      "Accuracy of the model is 97.7800 %\n"
     ]
    }
   ],
   "source": [
    "with torch.no_grad():\n",
    "    n_corrects = 0\n",
    "    n_samples = 0\n",
    "    \n",
    "    model.eval()\n",
    "    for images, targets in test_dataloader:\n",
    "        images = images.to(device)\n",
    "        targets = targets.to(device)\n",
    "        out = model(images)\n",
    "        \n",
    "        _, predicted = torch.max(out, 1)\n",
    "        n_samples += images.size(0)\n",
    "        n_corrects += (targets == predicted).sum().item()\n",
    "        \n",
    "    acc = 100 * n_corrects / n_samples\n",
    "    print(f\"Accuracy of the model is {acc:.4f} %\")\n",
    "        "
   ]
  },
  {
   "cell_type": "code",
   "execution_count": null,
   "id": "36138c08-00f7-4cb9-802f-1b14e9cadd5e",
   "metadata": {},
   "outputs": [],
   "source": []
  }
 ],
 "metadata": {
  "kernelspec": {
   "display_name": "Python (torch-gpu)",
   "language": "python",
   "name": "torch-gpu"
  },
  "language_info": {
   "codemirror_mode": {
    "name": "ipython",
    "version": 3
   },
   "file_extension": ".py",
   "mimetype": "text/x-python",
   "name": "python",
   "nbconvert_exporter": "python",
   "pygments_lexer": "ipython3",
   "version": "3.8.13"
  }
 },
 "nbformat": 4,
 "nbformat_minor": 5
}
