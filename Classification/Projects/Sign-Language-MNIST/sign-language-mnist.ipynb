{
 "cells": [
  {
   "cell_type": "markdown",
   "id": "38dbedd1-3288-4528-a71f-41cd8ef5ac17",
   "metadata": {},
   "source": [
    "# Sign Language MNIST"
   ]
  },
  {
   "cell_type": "code",
   "execution_count": 1,
   "id": "de6710f6-af8b-4f23-8078-323f2476386c",
   "metadata": {},
   "outputs": [
    {
     "name": "stderr",
     "output_type": "stream",
     "text": [
      "2022-11-11 20:54:29.245707: E tensorflow/stream_executor/cuda/cuda_blas.cc:2981] Unable to register cuBLAS factory: Attempting to register factory for plugin cuBLAS when one has already been registered\n"
     ]
    }
   ],
   "source": [
    "import os\n",
    "import math\n",
    "\n",
    "os.environ['TF_CPP_MIN_LOG_LEVEL'] = '2'\n",
    "\n",
    "import tensorflow as tf\n",
    "import keras\n",
    "from keras.layers import Input, Dense, Dropout, Flatten, Conv2D, MaxPool2D, Dropout, BatchNormalization, Rescaling, Flatten\n",
    "from keras.utils import image_dataset_from_directory\n",
    "from keras.optimizers import SGD\n",
    "from keras.callbacks import ReduceLROnPlateau\n",
    "import sklearn.preprocessing as preprocessing\n",
    "import pandas as pd\n",
    "import matplotlib.pyplot as plt\n",
    "from matplotlib.pyplot import figure\n",
    "import numpy as np"
   ]
  },
  {
   "cell_type": "code",
   "execution_count": 2,
   "id": "5128b87d-8897-429b-b590-61b56ce4b82a",
   "metadata": {},
   "outputs": [],
   "source": [
    "physical_devices = tf.config.list_physical_devices('GPU')\n",
    "tf.config.experimental.set_memory_growth(physical_devices[0], True)"
   ]
  },
  {
   "cell_type": "markdown",
   "id": "0272caf2-27f2-4b4c-8a4c-66bbd08fe429",
   "metadata": {
    "tags": []
   },
   "source": [
    "# CONSTANTS"
   ]
  },
  {
   "cell_type": "code",
   "execution_count": 3,
   "id": "0e6ef819-f4dc-4340-a8a3-253d6be0cfec",
   "metadata": {},
   "outputs": [],
   "source": [
    "WIDTH = 28\n",
    "HEIGHT = 28\n",
    "CHANNELS = 1\n",
    "INPUT_SHAPE = (WIDTH, HEIGHT, CHANNELS)\n",
    "CSV_FILE_TRAIN = '/mnt/files/Datasets/sign-language-mnist/sign_mnist_train.csv'\n",
    "CSV_FILE_TEST = '/mnt/files/Datasets/sign-language-mnist/sign_mnist_test.csv'\n",
    "BATCH_SIZE = 256\n",
    "LR_INITIAL = 0.0001\n",
    "N_EPOCHS = 40"
   ]
  },
  {
   "cell_type": "markdown",
   "id": "8f840ef0-fec8-405c-8f09-313f33cfc270",
   "metadata": {},
   "source": [
    "# DATASET"
   ]
  },
  {
   "cell_type": "code",
   "execution_count": 4,
   "id": "56c2a3be-c162-4622-8c2d-15646a1a0eae",
   "metadata": {},
   "outputs": [],
   "source": [
    "df_train_raw = pd.read_csv(CSV_FILE_TRAIN, sep=',')\n",
    "df_test_raw = pd.read_csv(CSV_FILE_TEST, sep=',')"
   ]
  },
  {
   "cell_type": "code",
   "execution_count": 5,
   "id": "bbde9f50-e1f2-4096-91fc-065e436c9c02",
   "metadata": {},
   "outputs": [
    {
     "data": {
      "text/html": [
       "<div>\n",
       "<style scoped>\n",
       "    .dataframe tbody tr th:only-of-type {\n",
       "        vertical-align: middle;\n",
       "    }\n",
       "\n",
       "    .dataframe tbody tr th {\n",
       "        vertical-align: top;\n",
       "    }\n",
       "\n",
       "    .dataframe thead th {\n",
       "        text-align: right;\n",
       "    }\n",
       "</style>\n",
       "<table border=\"1\" class=\"dataframe\">\n",
       "  <thead>\n",
       "    <tr style=\"text-align: right;\">\n",
       "      <th></th>\n",
       "      <th>label</th>\n",
       "      <th>pixel1</th>\n",
       "      <th>pixel2</th>\n",
       "      <th>pixel3</th>\n",
       "      <th>pixel4</th>\n",
       "      <th>pixel5</th>\n",
       "      <th>pixel6</th>\n",
       "      <th>pixel7</th>\n",
       "      <th>pixel8</th>\n",
       "      <th>pixel9</th>\n",
       "      <th>...</th>\n",
       "      <th>pixel775</th>\n",
       "      <th>pixel776</th>\n",
       "      <th>pixel777</th>\n",
       "      <th>pixel778</th>\n",
       "      <th>pixel779</th>\n",
       "      <th>pixel780</th>\n",
       "      <th>pixel781</th>\n",
       "      <th>pixel782</th>\n",
       "      <th>pixel783</th>\n",
       "      <th>pixel784</th>\n",
       "    </tr>\n",
       "  </thead>\n",
       "  <tbody>\n",
       "    <tr>\n",
       "      <th>0</th>\n",
       "      <td>3</td>\n",
       "      <td>107</td>\n",
       "      <td>118</td>\n",
       "      <td>127</td>\n",
       "      <td>134</td>\n",
       "      <td>139</td>\n",
       "      <td>143</td>\n",
       "      <td>146</td>\n",
       "      <td>150</td>\n",
       "      <td>153</td>\n",
       "      <td>...</td>\n",
       "      <td>207</td>\n",
       "      <td>207</td>\n",
       "      <td>207</td>\n",
       "      <td>207</td>\n",
       "      <td>206</td>\n",
       "      <td>206</td>\n",
       "      <td>206</td>\n",
       "      <td>204</td>\n",
       "      <td>203</td>\n",
       "      <td>202</td>\n",
       "    </tr>\n",
       "    <tr>\n",
       "      <th>1</th>\n",
       "      <td>6</td>\n",
       "      <td>155</td>\n",
       "      <td>157</td>\n",
       "      <td>156</td>\n",
       "      <td>156</td>\n",
       "      <td>156</td>\n",
       "      <td>157</td>\n",
       "      <td>156</td>\n",
       "      <td>158</td>\n",
       "      <td>158</td>\n",
       "      <td>...</td>\n",
       "      <td>69</td>\n",
       "      <td>149</td>\n",
       "      <td>128</td>\n",
       "      <td>87</td>\n",
       "      <td>94</td>\n",
       "      <td>163</td>\n",
       "      <td>175</td>\n",
       "      <td>103</td>\n",
       "      <td>135</td>\n",
       "      <td>149</td>\n",
       "    </tr>\n",
       "    <tr>\n",
       "      <th>2</th>\n",
       "      <td>2</td>\n",
       "      <td>187</td>\n",
       "      <td>188</td>\n",
       "      <td>188</td>\n",
       "      <td>187</td>\n",
       "      <td>187</td>\n",
       "      <td>186</td>\n",
       "      <td>187</td>\n",
       "      <td>188</td>\n",
       "      <td>187</td>\n",
       "      <td>...</td>\n",
       "      <td>202</td>\n",
       "      <td>201</td>\n",
       "      <td>200</td>\n",
       "      <td>199</td>\n",
       "      <td>198</td>\n",
       "      <td>199</td>\n",
       "      <td>198</td>\n",
       "      <td>195</td>\n",
       "      <td>194</td>\n",
       "      <td>195</td>\n",
       "    </tr>\n",
       "    <tr>\n",
       "      <th>3</th>\n",
       "      <td>2</td>\n",
       "      <td>211</td>\n",
       "      <td>211</td>\n",
       "      <td>212</td>\n",
       "      <td>212</td>\n",
       "      <td>211</td>\n",
       "      <td>210</td>\n",
       "      <td>211</td>\n",
       "      <td>210</td>\n",
       "      <td>210</td>\n",
       "      <td>...</td>\n",
       "      <td>235</td>\n",
       "      <td>234</td>\n",
       "      <td>233</td>\n",
       "      <td>231</td>\n",
       "      <td>230</td>\n",
       "      <td>226</td>\n",
       "      <td>225</td>\n",
       "      <td>222</td>\n",
       "      <td>229</td>\n",
       "      <td>163</td>\n",
       "    </tr>\n",
       "    <tr>\n",
       "      <th>4</th>\n",
       "      <td>13</td>\n",
       "      <td>164</td>\n",
       "      <td>167</td>\n",
       "      <td>170</td>\n",
       "      <td>172</td>\n",
       "      <td>176</td>\n",
       "      <td>179</td>\n",
       "      <td>180</td>\n",
       "      <td>184</td>\n",
       "      <td>185</td>\n",
       "      <td>...</td>\n",
       "      <td>92</td>\n",
       "      <td>105</td>\n",
       "      <td>105</td>\n",
       "      <td>108</td>\n",
       "      <td>133</td>\n",
       "      <td>163</td>\n",
       "      <td>157</td>\n",
       "      <td>163</td>\n",
       "      <td>164</td>\n",
       "      <td>179</td>\n",
       "    </tr>\n",
       "  </tbody>\n",
       "</table>\n",
       "<p>5 rows × 785 columns</p>\n",
       "</div>"
      ],
      "text/plain": [
       "   label  pixel1  pixel2  pixel3  pixel4  pixel5  pixel6  pixel7  pixel8  \\\n",
       "0      3     107     118     127     134     139     143     146     150   \n",
       "1      6     155     157     156     156     156     157     156     158   \n",
       "2      2     187     188     188     187     187     186     187     188   \n",
       "3      2     211     211     212     212     211     210     211     210   \n",
       "4     13     164     167     170     172     176     179     180     184   \n",
       "\n",
       "   pixel9  ...  pixel775  pixel776  pixel777  pixel778  pixel779  pixel780  \\\n",
       "0     153  ...       207       207       207       207       206       206   \n",
       "1     158  ...        69       149       128        87        94       163   \n",
       "2     187  ...       202       201       200       199       198       199   \n",
       "3     210  ...       235       234       233       231       230       226   \n",
       "4     185  ...        92       105       105       108       133       163   \n",
       "\n",
       "   pixel781  pixel782  pixel783  pixel784  \n",
       "0       206       204       203       202  \n",
       "1       175       103       135       149  \n",
       "2       198       195       194       195  \n",
       "3       225       222       229       163  \n",
       "4       157       163       164       179  \n",
       "\n",
       "[5 rows x 785 columns]"
      ]
     },
     "execution_count": 5,
     "metadata": {},
     "output_type": "execute_result"
    }
   ],
   "source": [
    "df_train_raw.head()"
   ]
  },
  {
   "cell_type": "code",
   "execution_count": 6,
   "id": "8724144a-b025-478b-9e2d-80774b3a284e",
   "metadata": {},
   "outputs": [
    {
     "data": {
      "text/html": [
       "<div>\n",
       "<style scoped>\n",
       "    .dataframe tbody tr th:only-of-type {\n",
       "        vertical-align: middle;\n",
       "    }\n",
       "\n",
       "    .dataframe tbody tr th {\n",
       "        vertical-align: top;\n",
       "    }\n",
       "\n",
       "    .dataframe thead th {\n",
       "        text-align: right;\n",
       "    }\n",
       "</style>\n",
       "<table border=\"1\" class=\"dataframe\">\n",
       "  <thead>\n",
       "    <tr style=\"text-align: right;\">\n",
       "      <th></th>\n",
       "      <th>label</th>\n",
       "      <th>pixel1</th>\n",
       "      <th>pixel2</th>\n",
       "      <th>pixel3</th>\n",
       "      <th>pixel4</th>\n",
       "      <th>pixel5</th>\n",
       "      <th>pixel6</th>\n",
       "      <th>pixel7</th>\n",
       "      <th>pixel8</th>\n",
       "      <th>pixel9</th>\n",
       "      <th>...</th>\n",
       "      <th>pixel775</th>\n",
       "      <th>pixel776</th>\n",
       "      <th>pixel777</th>\n",
       "      <th>pixel778</th>\n",
       "      <th>pixel779</th>\n",
       "      <th>pixel780</th>\n",
       "      <th>pixel781</th>\n",
       "      <th>pixel782</th>\n",
       "      <th>pixel783</th>\n",
       "      <th>pixel784</th>\n",
       "    </tr>\n",
       "  </thead>\n",
       "  <tbody>\n",
       "    <tr>\n",
       "      <th>0</th>\n",
       "      <td>6</td>\n",
       "      <td>149</td>\n",
       "      <td>149</td>\n",
       "      <td>150</td>\n",
       "      <td>150</td>\n",
       "      <td>150</td>\n",
       "      <td>151</td>\n",
       "      <td>151</td>\n",
       "      <td>150</td>\n",
       "      <td>151</td>\n",
       "      <td>...</td>\n",
       "      <td>138</td>\n",
       "      <td>148</td>\n",
       "      <td>127</td>\n",
       "      <td>89</td>\n",
       "      <td>82</td>\n",
       "      <td>96</td>\n",
       "      <td>106</td>\n",
       "      <td>112</td>\n",
       "      <td>120</td>\n",
       "      <td>107</td>\n",
       "    </tr>\n",
       "    <tr>\n",
       "      <th>1</th>\n",
       "      <td>5</td>\n",
       "      <td>126</td>\n",
       "      <td>128</td>\n",
       "      <td>131</td>\n",
       "      <td>132</td>\n",
       "      <td>133</td>\n",
       "      <td>134</td>\n",
       "      <td>135</td>\n",
       "      <td>135</td>\n",
       "      <td>136</td>\n",
       "      <td>...</td>\n",
       "      <td>47</td>\n",
       "      <td>104</td>\n",
       "      <td>194</td>\n",
       "      <td>183</td>\n",
       "      <td>186</td>\n",
       "      <td>184</td>\n",
       "      <td>184</td>\n",
       "      <td>184</td>\n",
       "      <td>182</td>\n",
       "      <td>180</td>\n",
       "    </tr>\n",
       "    <tr>\n",
       "      <th>2</th>\n",
       "      <td>10</td>\n",
       "      <td>85</td>\n",
       "      <td>88</td>\n",
       "      <td>92</td>\n",
       "      <td>96</td>\n",
       "      <td>105</td>\n",
       "      <td>123</td>\n",
       "      <td>135</td>\n",
       "      <td>143</td>\n",
       "      <td>147</td>\n",
       "      <td>...</td>\n",
       "      <td>68</td>\n",
       "      <td>166</td>\n",
       "      <td>242</td>\n",
       "      <td>227</td>\n",
       "      <td>230</td>\n",
       "      <td>227</td>\n",
       "      <td>226</td>\n",
       "      <td>225</td>\n",
       "      <td>224</td>\n",
       "      <td>222</td>\n",
       "    </tr>\n",
       "    <tr>\n",
       "      <th>3</th>\n",
       "      <td>0</td>\n",
       "      <td>203</td>\n",
       "      <td>205</td>\n",
       "      <td>207</td>\n",
       "      <td>206</td>\n",
       "      <td>207</td>\n",
       "      <td>209</td>\n",
       "      <td>210</td>\n",
       "      <td>209</td>\n",
       "      <td>210</td>\n",
       "      <td>...</td>\n",
       "      <td>154</td>\n",
       "      <td>248</td>\n",
       "      <td>247</td>\n",
       "      <td>248</td>\n",
       "      <td>253</td>\n",
       "      <td>236</td>\n",
       "      <td>230</td>\n",
       "      <td>240</td>\n",
       "      <td>253</td>\n",
       "      <td>255</td>\n",
       "    </tr>\n",
       "    <tr>\n",
       "      <th>4</th>\n",
       "      <td>3</td>\n",
       "      <td>188</td>\n",
       "      <td>191</td>\n",
       "      <td>193</td>\n",
       "      <td>195</td>\n",
       "      <td>199</td>\n",
       "      <td>201</td>\n",
       "      <td>202</td>\n",
       "      <td>203</td>\n",
       "      <td>203</td>\n",
       "      <td>...</td>\n",
       "      <td>26</td>\n",
       "      <td>40</td>\n",
       "      <td>64</td>\n",
       "      <td>48</td>\n",
       "      <td>29</td>\n",
       "      <td>46</td>\n",
       "      <td>49</td>\n",
       "      <td>46</td>\n",
       "      <td>46</td>\n",
       "      <td>53</td>\n",
       "    </tr>\n",
       "  </tbody>\n",
       "</table>\n",
       "<p>5 rows × 785 columns</p>\n",
       "</div>"
      ],
      "text/plain": [
       "   label  pixel1  pixel2  pixel3  pixel4  pixel5  pixel6  pixel7  pixel8  \\\n",
       "0      6     149     149     150     150     150     151     151     150   \n",
       "1      5     126     128     131     132     133     134     135     135   \n",
       "2     10      85      88      92      96     105     123     135     143   \n",
       "3      0     203     205     207     206     207     209     210     209   \n",
       "4      3     188     191     193     195     199     201     202     203   \n",
       "\n",
       "   pixel9  ...  pixel775  pixel776  pixel777  pixel778  pixel779  pixel780  \\\n",
       "0     151  ...       138       148       127        89        82        96   \n",
       "1     136  ...        47       104       194       183       186       184   \n",
       "2     147  ...        68       166       242       227       230       227   \n",
       "3     210  ...       154       248       247       248       253       236   \n",
       "4     203  ...        26        40        64        48        29        46   \n",
       "\n",
       "   pixel781  pixel782  pixel783  pixel784  \n",
       "0       106       112       120       107  \n",
       "1       184       184       182       180  \n",
       "2       226       225       224       222  \n",
       "3       230       240       253       255  \n",
       "4        49        46        46        53  \n",
       "\n",
       "[5 rows x 785 columns]"
      ]
     },
     "execution_count": 6,
     "metadata": {},
     "output_type": "execute_result"
    }
   ],
   "source": [
    "df_test_raw.head()"
   ]
  },
  {
   "cell_type": "code",
   "execution_count": 7,
   "id": "1543da06-097d-46dc-adba-3daae53ee331",
   "metadata": {},
   "outputs": [
    {
     "data": {
      "text/plain": [
       "17    1294\n",
       "16    1279\n",
       "11    1241\n",
       "22    1225\n",
       "5     1204\n",
       "18    1199\n",
       "3     1196\n",
       "14    1196\n",
       "19    1186\n",
       "23    1164\n",
       "8     1162\n",
       "20    1161\n",
       "13    1151\n",
       "2     1144\n",
       "0     1126\n",
       "24    1118\n",
       "10    1114\n",
       "6     1090\n",
       "15    1088\n",
       "21    1082\n",
       "12    1055\n",
       "7     1013\n",
       "1     1010\n",
       "4      957\n",
       "Name: label, dtype: int64"
      ]
     },
     "execution_count": 7,
     "metadata": {},
     "output_type": "execute_result"
    }
   ],
   "source": [
    "df_train_raw['label'].value_counts()"
   ]
  },
  {
   "cell_type": "code",
   "execution_count": 8,
   "id": "eae81e28-d0df-4737-8bb3-3b21677d234d",
   "metadata": {},
   "outputs": [
    {
     "data": {
      "text/plain": [
       "4     498\n",
       "7     436\n",
       "1     432\n",
       "12    394\n",
       "6     348\n",
       "15    347\n",
       "21    346\n",
       "24    332\n",
       "0     331\n",
       "10    331\n",
       "2     310\n",
       "13    291\n",
       "8     288\n",
       "23    267\n",
       "20    266\n",
       "19    248\n",
       "5     247\n",
       "14    246\n",
       "18    246\n",
       "3     245\n",
       "11    209\n",
       "22    206\n",
       "16    164\n",
       "17    144\n",
       "Name: label, dtype: int64"
      ]
     },
     "execution_count": 8,
     "metadata": {},
     "output_type": "execute_result"
    }
   ],
   "source": [
    "df_test_raw['label'].value_counts()"
   ]
  },
  {
   "cell_type": "code",
   "execution_count": 9,
   "id": "d4dd88ba-771e-422d-b344-61deb30a9e4f",
   "metadata": {},
   "outputs": [],
   "source": [
    "# decreasing 1 for x > 9 because the dataset jump the label 9\n",
    "df_train_raw['label'] = df_train_raw[\"label\"].apply(lambda x: x - 1 if x > 9 else x)\n",
    "df_test_raw['label'] = df_test_raw[\"label\"].apply(lambda x: x - 1 if x > 9 else x)"
   ]
  },
  {
   "cell_type": "code",
   "execution_count": 10,
   "id": "33c746bf-86e6-4e48-92a9-baac3eac8e6a",
   "metadata": {},
   "outputs": [
    {
     "data": {
      "text/plain": [
       "(0, 23)"
      ]
     },
     "execution_count": 10,
     "metadata": {},
     "output_type": "execute_result"
    }
   ],
   "source": [
    "df_train_raw['label'].min(), df_train_raw['label'].max()"
   ]
  },
  {
   "cell_type": "code",
   "execution_count": 11,
   "id": "9b868978-c3da-409a-a2c9-0dc13d8f3a12",
   "metadata": {},
   "outputs": [
    {
     "data": {
      "text/plain": [
       "(0, 23)"
      ]
     },
     "execution_count": 11,
     "metadata": {},
     "output_type": "execute_result"
    }
   ],
   "source": [
    "df_test_raw['label'].min(), df_test_raw['label'].max()"
   ]
  },
  {
   "cell_type": "code",
   "execution_count": 12,
   "id": "0ce166f5-2bf3-4544-b0c7-1a4902f27da4",
   "metadata": {},
   "outputs": [
    {
     "name": "stdout",
     "output_type": "stream",
     "text": [
      "Size of train: 27455 | Size of test: 7172\n"
     ]
    }
   ],
   "source": [
    "size_train = len(df_train_raw)\n",
    "size_test = len(df_test_raw)\n",
    "print(f\"Size of train: {size_train} | Size of test: {size_test}\")"
   ]
  },
  {
   "cell_type": "code",
   "execution_count": 13,
   "id": "40e65409-258c-4740-8ec0-1400c51257ac",
   "metadata": {},
   "outputs": [],
   "source": [
    "# Checking if there are some NaN values\n",
    "assert df_train_raw.isna().sum().to_numpy().sum() == df_train_raw.isna().sum().sum() == 0"
   ]
  },
  {
   "cell_type": "code",
   "execution_count": 14,
   "id": "f34c8907-3a75-4fdc-85c3-30cb28d7e1ee",
   "metadata": {},
   "outputs": [],
   "source": [
    "# Separating the label from the features\n",
    "y = df_train_raw.pop('label')\n",
    "y_test = df_test_raw.pop('label')\n",
    "X = df_train_raw.copy()\n",
    "X_test = df_test_raw.copy()"
   ]
  },
  {
   "cell_type": "code",
   "execution_count": 15,
   "id": "a368b50c-60ac-4fbd-8300-26151c384a10",
   "metadata": {},
   "outputs": [],
   "source": [
    "# Splitting train set into two (train + valid)\n",
    "from sklearn.model_selection import train_test_split\n",
    "\n",
    "X_train, X_val, y_train, y_val = train_test_split(X, y, test_size=0.1, random_state=42)"
   ]
  },
  {
   "cell_type": "code",
   "execution_count": 16,
   "id": "b09b0a39-d0c7-4e2e-a42f-198b6b6da6bc",
   "metadata": {},
   "outputs": [],
   "source": [
    "# Transforming in tensor\n",
    "X_train = tf.convert_to_tensor(value=X_train)\n",
    "y_train = tf.convert_to_tensor(value=y_train)\n",
    "X_val = tf.convert_to_tensor(value=X_val)\n",
    "y_val = tf.convert_to_tensor(value=y_val)\n",
    "X_test = tf.convert_to_tensor(value=X_test)\n",
    "y_test = tf.convert_to_tensor(value=y_test)"
   ]
  },
  {
   "cell_type": "code",
   "execution_count": 17,
   "id": "e17e434c-256a-44f0-960c-7ebec7eec32e",
   "metadata": {},
   "outputs": [],
   "source": [
    "# PIXELS\n",
    "X_train = tf.reshape(X_train, shape=[-1, 28, 28])\n",
    "X_train = tf.expand_dims(X_train, axis=3)\n",
    "X_val = tf.reshape(X_val, shape=[-1, 28, 28])\n",
    "X_val = tf.expand_dims(X_val, axis=3)\n",
    "X_test = tf.reshape(X_test, shape=[-1, 28, 28])\n",
    "X_test = tf.expand_dims(X_test, axis=3)"
   ]
  },
  {
   "cell_type": "code",
   "execution_count": 18,
   "id": "02c1fdfc-f601-4113-9bf2-05b4d4223c40",
   "metadata": {},
   "outputs": [
    {
     "name": "stdout",
     "output_type": "stream",
     "text": [
      "Train: (TensorShape([24709, 28, 28, 1]), TensorShape([24709]))\n",
      "Val: (TensorShape([2746, 28, 28, 1]), TensorShape([2746]))\n",
      "Test: (TensorShape([7172, 28, 28, 1]), TensorShape([7172]))\n"
     ]
    }
   ],
   "source": [
    "print(f\"Train: {X_train.shape, y_train.shape}\")\n",
    "print(f\"Val: {X_val.shape, y_val.shape}\")\n",
    "print(f\"Test: {X_test.shape, y_test.shape}\")"
   ]
  },
  {
   "cell_type": "markdown",
   "id": "21fb8371-c26e-43ff-95fd-e6d61f8c9929",
   "metadata": {},
   "source": [
    "## Some Examples"
   ]
  },
  {
   "cell_type": "code",
   "execution_count": 19,
   "id": "80c3066e-2b2b-4a20-86fc-48b0b501e0ab",
   "metadata": {
    "tags": []
   },
   "outputs": [
    {
     "data": {
      "image/png": "[encoded data removed]",
      "text/plain": [
       "<Figure size 1600x800 with 20 Axes>"
      ]
     },
     "metadata": {},
     "output_type": "display_data"
    }
   ],
   "source": [
    "figure(figsize=(20, 10), dpi=80)\n",
    "for i in range(20):\n",
    "    ax = plt.subplot(4, 5, i+1)\n",
    "    ax.imshow(X_train[i], cmap='gray')\n",
    "    ax.axis('off')\n",
    "    ax.set_title(y_train[i].numpy().astype('uint8'))"
   ]
  },
  {
   "cell_type": "markdown",
   "id": "69b2406c-7282-4f06-a88b-918f2512ce1d",
   "metadata": {},
   "source": [
    "# MODEL"
   ]
  },
  {
   "cell_type": "code",
   "execution_count": 20,
   "id": "922be7c3-5f1a-4cd6-9624-51b297ace250",
   "metadata": {},
   "outputs": [],
   "source": [
    "input_layer = Input(shape=(28, 28, 1))\n",
    "x = Rescaling(1./255, offset=0.0)(input_layer)\n",
    "x = Conv2D(filters=32,\n",
    "           kernel_size=(5, 5),\n",
    "           strides=(1, 1),\n",
    "           padding='same',\n",
    "           activation='relu')(x)\n",
    "x = BatchNormalization()(x)\n",
    "x = Conv2D(filters=32,\n",
    "           kernel_size=(3, 3),\n",
    "           strides=(1, 1),\n",
    "           padding='same',\n",
    "           activation='relu')(x)\n",
    "x = BatchNormalization()(x)\n",
    "x = MaxPool2D(pool_size=(2, 2))(x)\n",
    "x = Conv2D(filters=64,\n",
    "           kernel_size=(3, 3),\n",
    "           strides=(1, 1),\n",
    "           padding='same',\n",
    "           activation='relu')(x)\n",
    "x = BatchNormalization()(x)\n",
    "x = MaxPool2D(pool_size=(2, 2))(x)\n",
    "x = Conv2D(filters=64,\n",
    "           kernel_size=(3, 3),\n",
    "           strides=(1, 1),\n",
    "           padding='same',\n",
    "           activation='relu')(x)\n",
    "x = BatchNormalization()(x)\n",
    "x = MaxPool2D(pool_size=(2, 2))(x)\n",
    "x = Flatten()(x)\n",
    "x = Dropout(0.4)(x)\n",
    "x = Dense(units=24, activation='softmax')(x)\n",
    "model = keras.Model(inputs=input_layer, outputs=x)"
   ]
  },
  {
   "cell_type": "code",
   "execution_count": 21,
   "id": "db4b048c-c367-45be-8b9d-2cd7c09d7ec4",
   "metadata": {},
   "outputs": [
    {
     "name": "stdout",
     "output_type": "stream",
     "text": [
      "Model: \"model\"\n",
      "_________________________________________________________________\n",
      " Layer (type)                Output Shape              Param #   \n",
      "=================================================================\n",
      " input_1 (InputLayer)        [(None, 28, 28, 1)]       0         \n",
      "                                                                 \n",
      " rescaling (Rescaling)       (None, 28, 28, 1)         0         \n",
      "                                                                 \n",
      " conv2d (Conv2D)             (None, 28, 28, 32)        832       \n",
      "                                                                 \n",
      " batch_normalization (BatchN  (None, 28, 28, 32)       128       \n",
      " ormalization)                                                   \n",
      "                                                                 \n",
      " conv2d_1 (Conv2D)           (None, 28, 28, 32)        9248      \n",
      "                                                                 \n",
      " batch_normalization_1 (Batc  (None, 28, 28, 32)       128       \n",
      " hNormalization)                                                 \n",
      "                                                                 \n",
      " max_pooling2d (MaxPooling2D  (None, 14, 14, 32)       0         \n",
      " )                                                               \n",
      "                                                                 \n",
      " conv2d_2 (Conv2D)           (None, 14, 14, 64)        18496     \n",
      "                                                                 \n",
      " batch_normalization_2 (Batc  (None, 14, 14, 64)       256       \n",
      " hNormalization)                                                 \n",
      "                                                                 \n",
      " max_pooling2d_1 (MaxPooling  (None, 7, 7, 64)         0         \n",
      " 2D)                                                             \n",
      "                                                                 \n",
      " conv2d_3 (Conv2D)           (None, 7, 7, 64)          36928     \n",
      "                                                                 \n",
      " batch_normalization_3 (Batc  (None, 7, 7, 64)         256       \n",
      " hNormalization)                                                 \n",
      "                                                                 \n",
      " max_pooling2d_2 (MaxPooling  (None, 3, 3, 64)         0         \n",
      " 2D)                                                             \n",
      "                                                                 \n",
      " flatten (Flatten)           (None, 576)               0         \n",
      "                                                                 \n",
      " dropout (Dropout)           (None, 576)               0         \n",
      "                                                                 \n",
      " dense (Dense)               (None, 24)                13848     \n",
      "                                                                 \n",
      "=================================================================\n",
      "Total params: 80,120\n",
      "Trainable params: 79,736\n",
      "Non-trainable params: 384\n",
      "_________________________________________________________________\n"
     ]
    }
   ],
   "source": [
    "model.summary()"
   ]
  },
  {
   "cell_type": "markdown",
   "id": "df7f6aea-19ad-41ca-93b9-ab71bd2c9a25",
   "metadata": {},
   "source": [
    "# CALLBACKS"
   ]
  },
  {
   "cell_type": "code",
   "execution_count": 22,
   "id": "d809b1e6",
   "metadata": {},
   "outputs": [],
   "source": [
    "checkpoint_filepath = '/tmp/checkpoint/best_model.h5'\n",
    "model_checkpoint_callback = tf.keras.callbacks.ModelCheckpoint(\n",
    "    filepath=checkpoint_filepath,\n",
    "    save_weights_only=True,\n",
    "    monitor='accuracy',\n",
    "    mode='max',\n",
    "    save_best_only=True)\n",
    "\n",
    "callbacks = [model_checkpoint_callback]"
   ]
  },
  {
   "cell_type": "markdown",
   "id": "815bf64b-5270-43e7-8f3c-606e932490f0",
   "metadata": {},
   "source": [
    "# OPTIMIZER"
   ]
  },
  {
   "cell_type": "code",
   "execution_count": 23,
   "id": "6afd66cb",
   "metadata": {},
   "outputs": [],
   "source": [
    "optimizer = SGD(learning_rate=LR_INITIAL, momentum=0.9)\n",
    "loss = keras.losses.SparseCategoricalCrossentropy(from_logits=False)"
   ]
  },
  {
   "cell_type": "markdown",
   "id": "bc35d05d-92b2-48f1-9bd1-0df3ca8a2ca7",
   "metadata": {},
   "source": [
    "# COMPILE"
   ]
  },
  {
   "cell_type": "code",
   "execution_count": 24,
   "id": "de664742",
   "metadata": {},
   "outputs": [],
   "source": [
    "model.compile(loss=loss, optimizer=optimizer, metrics=['accuracy'])"
   ]
  },
  {
   "cell_type": "markdown",
   "id": "b971ef85-4354-41e1-b7db-9262369bfb6f",
   "metadata": {},
   "source": [
    "# TRAINING"
   ]
  },
  {
   "cell_type": "code",
   "execution_count": 25,
   "id": "2ef7d955",
   "metadata": {},
   "outputs": [
    {
     "name": "stdout",
     "output_type": "stream",
     "text": [
      "Epoch 1/40\n",
      "97/97 [==============================] - 10s 21ms/step - loss: 4.0556 - accuracy: 0.1188 - val_loss: 3.2956 - val_accuracy: 0.0401\n",
      "Epoch 2/40\n",
      "97/97 [==============================] - 2s 16ms/step - loss: 2.6849 - accuracy: 0.2610 - val_loss: 3.3692 - val_accuracy: 0.0590\n",
      "Epoch 3/40\n",
      "97/97 [==============================] - 2s 19ms/step - loss: 2.1127 - accuracy: 0.3749 - val_loss: 3.1677 - val_accuracy: 0.0637\n",
      "Epoch 4/40\n",
      "97/97 [==============================] - 2s 19ms/step - loss: 1.7446 - accuracy: 0.4679 - val_loss: 2.4770 - val_accuracy: 0.2338\n",
      "Epoch 5/40\n",
      "97/97 [==============================] - 2s 19ms/step - loss: 1.4379 - accuracy: 0.5532 - val_loss: 1.6341 - val_accuracy: 0.5484\n",
      "Epoch 6/40\n",
      "97/97 [==============================] - 2s 19ms/step - loss: 1.2184 - accuracy: 0.6190 - val_loss: 0.9954 - val_accuracy: 0.7560\n",
      "Epoch 7/40\n",
      "97/97 [==============================] - 2s 19ms/step - loss: 1.0431 - accuracy: 0.6710 - val_loss: 0.6766 - val_accuracy: 0.8602\n",
      "Epoch 8/40\n",
      "97/97 [==============================] - 2s 20ms/step - loss: 0.8951 - accuracy: 0.7158 - val_loss: 0.5472 - val_accuracy: 0.8962\n",
      "Epoch 9/40\n",
      "97/97 [==============================] - 2s 19ms/step - loss: 0.7794 - accuracy: 0.7541 - val_loss: 0.4534 - val_accuracy: 0.9166\n",
      "Epoch 10/40\n",
      "97/97 [==============================] - 2s 18ms/step - loss: 0.6765 - accuracy: 0.7879 - val_loss: 0.3875 - val_accuracy: 0.9279\n",
      "Epoch 11/40\n",
      "97/97 [==============================] - 2s 18ms/step - loss: 0.6028 - accuracy: 0.8133 - val_loss: 0.2968 - val_accuracy: 0.9570\n",
      "Epoch 12/40\n",
      "97/97 [==============================] - 2s 18ms/step - loss: 0.5292 - accuracy: 0.8390 - val_loss: 0.2587 - val_accuracy: 0.9629\n",
      "Epoch 13/40\n",
      "97/97 [==============================] - 2s 18ms/step - loss: 0.4783 - accuracy: 0.8543 - val_loss: 0.2230 - val_accuracy: 0.9738\n",
      "Epoch 14/40\n",
      "97/97 [==============================] - 2s 18ms/step - loss: 0.4338 - accuracy: 0.8663 - val_loss: 0.1983 - val_accuracy: 0.9752\n",
      "Epoch 15/40\n",
      "97/97 [==============================] - 2s 18ms/step - loss: 0.3967 - accuracy: 0.8783 - val_loss: 0.2036 - val_accuracy: 0.9749\n",
      "Epoch 16/40\n",
      "97/97 [==============================] - 2s 18ms/step - loss: 0.3454 - accuracy: 0.8978 - val_loss: 0.1512 - val_accuracy: 0.9858\n",
      "Epoch 17/40\n",
      "97/97 [==============================] - 2s 18ms/step - loss: 0.3240 - accuracy: 0.9036 - val_loss: 0.1140 - val_accuracy: 0.9927\n",
      "Epoch 18/40\n",
      "97/97 [==============================] - 2s 17ms/step - loss: 0.2910 - accuracy: 0.9170 - val_loss: 0.1085 - val_accuracy: 0.9927\n",
      "Epoch 19/40\n",
      "97/97 [==============================] - 2s 17ms/step - loss: 0.2673 - accuracy: 0.9253 - val_loss: 0.0892 - val_accuracy: 0.9956\n",
      "Epoch 20/40\n",
      "97/97 [==============================] - 2s 18ms/step - loss: 0.2505 - accuracy: 0.9273 - val_loss: 0.0863 - val_accuracy: 0.9953\n",
      "Epoch 21/40\n",
      "97/97 [==============================] - 2s 19ms/step - loss: 0.2363 - accuracy: 0.9336 - val_loss: 0.0799 - val_accuracy: 0.9960\n",
      "Epoch 22/40\n",
      "97/97 [==============================] - 2s 19ms/step - loss: 0.2157 - accuracy: 0.9425 - val_loss: 0.0641 - val_accuracy: 0.9975\n",
      "Epoch 23/40\n",
      "97/97 [==============================] - 2s 19ms/step - loss: 0.2010 - accuracy: 0.9457 - val_loss: 0.0559 - val_accuracy: 0.9993\n",
      "Epoch 24/40\n",
      "97/97 [==============================] - 2s 19ms/step - loss: 0.1886 - accuracy: 0.9501 - val_loss: 0.0528 - val_accuracy: 0.9993\n",
      "Epoch 25/40\n",
      "97/97 [==============================] - 2s 19ms/step - loss: 0.1792 - accuracy: 0.9514 - val_loss: 0.0516 - val_accuracy: 0.9993\n",
      "Epoch 26/40\n",
      "97/97 [==============================] - 2s 18ms/step - loss: 0.1662 - accuracy: 0.9570 - val_loss: 0.0441 - val_accuracy: 0.9989\n",
      "Epoch 27/40\n",
      "97/97 [==============================] - 2s 18ms/step - loss: 0.1593 - accuracy: 0.9589 - val_loss: 0.0519 - val_accuracy: 0.9985\n",
      "Epoch 28/40\n",
      "97/97 [==============================] - 2s 19ms/step - loss: 0.1504 - accuracy: 0.9610 - val_loss: 0.0381 - val_accuracy: 0.9996\n",
      "Epoch 29/40\n",
      "97/97 [==============================] - 2s 19ms/step - loss: 0.1408 - accuracy: 0.9651 - val_loss: 0.0356 - val_accuracy: 0.9996\n",
      "Epoch 30/40\n",
      "97/97 [==============================] - 2s 19ms/step - loss: 0.1352 - accuracy: 0.9652 - val_loss: 0.0308 - val_accuracy: 0.9989\n",
      "Epoch 31/40\n",
      "97/97 [==============================] - 2s 18ms/step - loss: 0.1221 - accuracy: 0.9702 - val_loss: 0.0284 - val_accuracy: 0.9993\n",
      "Epoch 32/40\n",
      "97/97 [==============================] - 2s 18ms/step - loss: 0.1177 - accuracy: 0.9727 - val_loss: 0.0274 - val_accuracy: 1.0000\n",
      "Epoch 33/40\n",
      "97/97 [==============================] - 2s 19ms/step - loss: 0.1185 - accuracy: 0.9701 - val_loss: 0.0245 - val_accuracy: 1.0000\n",
      "Epoch 34/40\n",
      "97/97 [==============================] - 2s 21ms/step - loss: 0.1109 - accuracy: 0.9730 - val_loss: 0.0280 - val_accuracy: 0.9996\n",
      "Epoch 35/40\n",
      "97/97 [==============================] - 2s 19ms/step - loss: 0.1048 - accuracy: 0.9751 - val_loss: 0.0238 - val_accuracy: 1.0000\n",
      "Epoch 36/40\n",
      "97/97 [==============================] - 2s 18ms/step - loss: 0.1006 - accuracy: 0.9771 - val_loss: 0.0214 - val_accuracy: 1.0000\n",
      "Epoch 37/40\n",
      "97/97 [==============================] - 2s 18ms/step - loss: 0.0960 - accuracy: 0.9776 - val_loss: 0.0190 - val_accuracy: 1.0000\n",
      "Epoch 38/40\n",
      "97/97 [==============================] - 2s 19ms/step - loss: 0.0959 - accuracy: 0.9771 - val_loss: 0.0194 - val_accuracy: 1.0000\n",
      "Epoch 39/40\n",
      "97/97 [==============================] - 2s 19ms/step - loss: 0.0905 - accuracy: 0.9790 - val_loss: 0.0186 - val_accuracy: 1.0000\n",
      "Epoch 40/40\n",
      "97/97 [==============================] - 2s 19ms/step - loss: 0.0871 - accuracy: 0.9803 - val_loss: 0.0156 - val_accuracy: 1.0000\n"
     ]
    }
   ],
   "source": [
    "history = model.fit(x=X_train, \n",
    "                    y=y_train,\n",
    "                    validation_data=(X_val, y_val),\n",
    "                    epochs=N_EPOCHS, \n",
    "                    batch_size=BATCH_SIZE, \n",
    "                    callbacks=callbacks, verbose=1)"
   ]
  },
  {
   "cell_type": "markdown",
   "id": "cadef63f-76f9-4cfd-b73d-06b45328e19f",
   "metadata": {
    "tags": []
   },
   "source": [
    "# EVALUATING"
   ]
  },
  {
   "cell_type": "code",
   "execution_count": 26,
   "id": "6f585c5b",
   "metadata": {},
   "outputs": [],
   "source": [
    "#model.load_weights('/tmp/checkpoint/best_model.h5')  # Loading the best model"
   ]
  },
  {
   "cell_type": "code",
   "execution_count": 27,
   "id": "f5997e11",
   "metadata": {},
   "outputs": [
    {
     "name": "stdout",
     "output_type": "stream",
     "text": [
      "225/225 [==============================] - 1s 3ms/step - loss: 0.3279 - accuracy: 0.9030\n"
     ]
    }
   ],
   "source": [
    "out = model.evaluate(X_test, y_test)"
   ]
  },
  {
   "cell_type": "code",
   "execution_count": 28,
   "id": "67953ace",
   "metadata": {},
   "outputs": [
    {
     "name": "stdout",
     "output_type": "stream",
     "text": [
      "loss = 0.3279 | acc = 0.9030\n"
     ]
    }
   ],
   "source": [
    "loss, acc = out[0], out[1]\n",
    "print(f\"loss = {loss:.4f} | acc = {acc:.4f}\")"
   ]
  },
  {
   "cell_type": "markdown",
   "id": "474154f7-70ae-476a-b1fb-418a5e0c1566",
   "metadata": {},
   "source": [
    "## Curves"
   ]
  },
  {
   "cell_type": "code",
   "execution_count": 29,
   "id": "b7699462",
   "metadata": {},
   "outputs": [
    {
     "data": {
      "image/png": "[encoded data removed]",
      "text/plain": [
       "<Figure size 800x800 with 2 Axes>"
      ]
     },
     "metadata": {},
     "output_type": "display_data"
    }
   ],
   "source": [
    "acc = history.history['accuracy']\n",
    "val_acc = history.history['val_accuracy']\n",
    "\n",
    "loss = history.history['loss']\n",
    "val_loss = history.history['val_loss']\n",
    "\n",
    "plt.figure(figsize=(8, 8))\n",
    "plt.subplot(2, 1, 1)\n",
    "plt.plot(acc, 'g', label='Acc Train')\n",
    "plt.plot(val_acc, 'b', label='Acc Validation')\n",
    "plt.legend(loc='lower right')\n",
    "plt.ylabel('Acc')\n",
    "plt.ylim([min(plt.ylim()),1.001])\n",
    "plt.title('Acc Train and Validation')\n",
    "\n",
    "plt.subplot(2, 1, 2)\n",
    "plt.plot(loss, 'g', label='Loss Train')\n",
    "plt.plot(val_loss, 'b', label='Loss Validation')\n",
    "plt.legend(loc='upper right')\n",
    "plt.ylabel('Cross Entropy')\n",
    "plt.title('Loss Train and Validation')\n",
    "plt.xlabel('epoch')\n",
    "plt.show()"
   ]
  },
  {
   "cell_type": "code",
   "execution_count": null,
   "id": "b248c077-4cd2-438c-99ca-e3a2f6aeaf7d",
   "metadata": {},
   "outputs": [],
   "source": []
  }
 ],
 "metadata": {
  "kernelspec": {
   "display_name": "tf-gpu",
   "language": "python",
   "name": "tf-gpu"
  },
  "language_info": {
   "codemirror_mode": {
    "name": "ipython",
    "version": 3
   },
   "file_extension": ".py",
   "mimetype": "text/x-python",
   "name": "python",
   "nbconvert_exporter": "python",
   "pygments_lexer": "ipython3",
   "version": "3.8.15"
  }
 },
 "nbformat": 4,
 "nbformat_minor": 5
}
