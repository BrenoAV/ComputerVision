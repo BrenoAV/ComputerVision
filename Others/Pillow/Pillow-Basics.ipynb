{
 "cells": [
  {
   "cell_type": "markdown",
   "id": "1653cf76-f3c4-491b-b186-a1c9100645fd",
   "metadata": {},
   "source": [
    "# PILLOW BASICS"
   ]
  },
  {
   "cell_type": "markdown",
   "id": "a06ff5e7-78ca-4396-940a-42b448d68692",
   "metadata": {},
   "source": [
    "# Reading an image"
   ]
  },
  {
   "cell_type": "code",
   "execution_count": 30,
   "id": "648e629c-bb2c-4a2a-849f-2baa9add53d2",
   "metadata": {},
   "outputs": [
    {
     "name": "stdout",
     "output_type": "stream",
     "text": [
      "File format: WEBP\n",
      "File size: (4608, 3456)\n",
      "File mode: RGB\n"
     ]
    }
   ],
   "source": [
    "from PIL import Image\n",
    "\n",
    "filename = \"imgs/landscape.webp\"\n",
    "\n",
    "with Image.open(filename) as img:\n",
    "    img.load()\n",
    "\n",
    "print(f\"File format: {img.format}\")\n",
    "print(f\"File size: {img.size}\")\n",
    "print(f\"File mode: {img.mode}\")\n",
    "\n",
    "img.show()"
   ]
  },
  {
   "cell_type": "markdown",
   "id": "1c257c82-6c3c-423b-8529-23042979504c",
   "metadata": {},
   "source": [
    "# Operations"
   ]
  },
  {
   "cell_type": "markdown",
   "id": "7a62dff6-a083-466e-8b4d-018740a743a0",
   "metadata": {},
   "source": [
    "## .crop()"
   ]
  },
  {
   "cell_type": "code",
   "execution_count": 31,
   "id": "ca880197-b9bd-4c45-b9ca-d95b3db830a1",
   "metadata": {},
   "outputs": [],
   "source": [
    "cropped_img = img.crop((2400, 400, 4000, 2500))\n",
    "cropped_img.show()"
   ]
  },
  {
   "cell_type": "markdown",
   "id": "c5a7452e-01a6-4448-a134-fbd34f3d5788",
   "metadata": {},
   "source": [
    "## .resize()"
   ]
  },
  {
   "cell_type": "code",
   "execution_count": 32,
   "id": "e5c98704-2f64-46c5-909c-fa9608e1ead2",
   "metadata": {},
   "outputs": [],
   "source": [
    "low_resized_img = cropped_img.resize((cropped_img.width // 4, cropped_img.height // 4))\n",
    "low_resized_img.show()"
   ]
  },
  {
   "cell_type": "markdown",
   "id": "59b8414b-7a69-4034-a4f2-f2b85e0eb6fd",
   "metadata": {},
   "source": [
    "## .thumbnail()"
   ]
  },
  {
   "cell_type": "code",
   "execution_count": 33,
   "id": "29c84385-88ec-43f9-98ac-84b5290b66c9",
   "metadata": {},
   "outputs": [],
   "source": [
    "img.thumbnail((512, 512))\n",
    "img.show()"
   ]
  },
  {
   "cell_type": "markdown",
   "id": "2b3af1e4-c738-4eac-b762-5b8dda7b2674",
   "metadata": {},
   "source": [
    "## .save()"
   ]
  },
  {
   "cell_type": "code",
   "execution_count": 34,
   "id": "82b1e286-671d-4643-939c-335a11f40d9d",
   "metadata": {},
   "outputs": [],
   "source": [
    "cropped_img.save(\"imgs/cropped_img.webp\")"
   ]
  },
  {
   "cell_type": "markdown",
   "id": "d85bb58b-9884-4b4e-ba79-e190e64170b2",
   "metadata": {},
   "source": [
    "---"
   ]
  },
  {
   "cell_type": "markdown",
   "id": "a5476af4-0727-4c24-9820-88bfc932c66e",
   "metadata": {},
   "source": [
    "# Basic Manipulation"
   ]
  },
  {
   "cell_type": "code",
   "execution_count": 42,
   "id": "ec8bb897-8c8c-43c9-be28-5bd9611d8c0e",
   "metadata": {},
   "outputs": [],
   "source": [
    "with Image.open(\"imgs/cropped_img.webp\") as img:\n",
    "    img.load()\n",
    "\n",
    "img.show()"
   ]
  },
  {
   "cell_type": "markdown",
   "id": "f721665e-add5-431a-87e8-7dd71683dc78",
   "metadata": {},
   "source": [
    "## Transpose"
   ]
  },
  {
   "cell_type": "code",
   "execution_count": 43,
   "id": "638585e3-4fca-478d-aa39-5312d89173c4",
   "metadata": {},
   "outputs": [],
   "source": [
    "transposed_img = img.transpose(method=Image.ROTATE_180)\n",
    "transposed_img.show()"
   ]
  },
  {
   "cell_type": "markdown",
   "id": "7268b956-c509-4f16-9aa5-ccbe43f007e5",
   "metadata": {},
   "source": [
    "## Rotate"
   ]
  },
  {
   "cell_type": "code",
   "execution_count": 45,
   "id": "d1d76966-f8a8-4ace-9cba-b186edfc482e",
   "metadata": {},
   "outputs": [],
   "source": [
    "rotated_img = img.rotate(45, expand=True)\n",
    "rotated_img.show()"
   ]
  },
  {
   "cell_type": "markdown",
   "id": "9f96b38a-b9c6-4f6c-b2ab-79de27b579e4",
   "metadata": {},
   "source": [
    "# Bands and Modes of an Image"
   ]
  },
  {
   "cell_type": "code",
   "execution_count": 69,
   "id": "69ff1024-44bb-4878-b025-b29112c82fbb",
   "metadata": {},
   "outputs": [],
   "source": [
    "with Image.open(\"imgs/fruits.webp\") as img:\n",
    "    img.load()\n",
    "img.show()"
   ]
  },
  {
   "cell_type": "markdown",
   "id": "f6f10594-0f55-4a56-bd0c-dc393e68d63f",
   "metadata": {},
   "source": [
    "## .getbands()"
   ]
  },
  {
   "cell_type": "code",
   "execution_count": 70,
   "id": "7b929a0d-03db-47b7-8332-10fd44f7d3b6",
   "metadata": {},
   "outputs": [
    {
     "data": {
      "text/plain": [
       "('R', 'G', 'B')"
      ]
     },
     "execution_count": 70,
     "metadata": {},
     "output_type": "execute_result"
    }
   ],
   "source": [
    "img.getbands()"
   ]
  },
  {
   "cell_type": "markdown",
   "id": "7efdde8f-291e-4a7c-9468-e91dcd719d4c",
   "metadata": {},
   "source": [
    "## .convert()"
   ]
  },
  {
   "cell_type": "code",
   "execution_count": 71,
   "id": "c5ada3cc-3d20-48e1-8067-a2f23af9b900",
   "metadata": {},
   "outputs": [],
   "source": [
    "gray_img = img.convert(\"L\")\n",
    "gray_img.show()"
   ]
  },
  {
   "cell_type": "markdown",
   "id": "04cd6ffc-a200-470e-98bf-3a835c742e18",
   "metadata": {},
   "source": [
    "## .split()"
   ]
  },
  {
   "cell_type": "code",
   "execution_count": 78,
   "id": "65bd3bad-28cf-4d24-8f3e-089329e47151",
   "metadata": {},
   "outputs": [
    {
     "name": "stdout",
     "output_type": "stream",
     "text": [
      "Red mode: L\n",
      "Green mode: L\n",
      "Blue mode: L\n"
     ]
    }
   ],
   "source": [
    "red, green, blue = img.convert(\"RGB\").split()\n",
    "\n",
    "print(f\"Red mode: {red.mode}\")\n",
    "print(f\"Green mode: {green.mode}\")\n",
    "print(f\"Blue mode: {blue.mode}\")"
   ]
  },
  {
   "cell_type": "code",
   "execution_count": 85,
   "id": "43d7c592-8cda-4482-9fa5-ec17f6a483b0",
   "metadata": {},
   "outputs": [],
   "source": [
    "zero_band = red.point(lambda _: 0)  # all pixels are 0"
   ]
  },
  {
   "cell_type": "markdown",
   "id": "ad046210-c095-4c01-a79f-e639c263370a",
   "metadata": {},
   "source": [
    "## .merge()"
   ]
  },
  {
   "cell_type": "code",
   "execution_count": 87,
   "id": "20f5f47b-8ad4-4984-961e-f4087cb153f5",
   "metadata": {},
   "outputs": [],
   "source": [
    "red_merge = Image.merge(\"RGB\", (red, zero_band, zero_band))\n",
    "red_merge.show()\n",
    "green_merge = Image.merge(\"RGB\", (zero_band, green, zero_band))\n",
    "green_merge.show()\n",
    "blue_merge = Image.merge(\"RGB\", (zero_band, zero_band, blue))\n",
    "blue_merge.show()"
   ]
  },
  {
   "cell_type": "code",
   "execution_count": null,
   "id": "defd034d-76d9-478d-8844-30bea97474ed",
   "metadata": {},
   "outputs": [],
   "source": []
  }
 ],
 "metadata": {
  "kernelspec": {
   "display_name": "Python 3 (ipykernel)",
   "language": "python",
   "name": "python3"
  },
  "language_info": {
   "codemirror_mode": {
    "name": "ipython",
    "version": 3
   },
   "file_extension": ".py",
   "mimetype": "text/x-python",
   "name": "python",
   "nbconvert_exporter": "python",
   "pygments_lexer": "ipython3",
   "version": "3.10.12"
  }
 },
 "nbformat": 4,
 "nbformat_minor": 5
}
